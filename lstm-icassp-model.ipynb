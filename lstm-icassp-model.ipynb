{
 "cells": [
  {
   "cell_type": "code",
   "execution_count": null,
   "metadata": {
    "_cell_guid": "b1076dfc-b9ad-4769-8c92-a6c4dae69d19",
    "_uuid": "8f2839f25d086af736a60e9eeb907d3b93b6e0e5",
    "execution": {
     "iopub.execute_input": "2023-01-14T06:12:02.129918Z",
     "iopub.status.busy": "2023-01-14T06:12:02.129185Z",
     "iopub.status.idle": "2023-01-14T06:12:11.383417Z",
     "shell.execute_reply": "2023-01-14T06:12:11.382508Z",
     "shell.execute_reply.started": "2023-01-14T06:12:02.129810Z"
    }
   },
   "outputs": [],
   "source": [
    "import math\n",
    "import numpy as np\n",
    "import datetime\n",
    "# import scipy.signal as signal\n",
    "# import scipy.io.wavfile as wav\n",
    "# import scipy.io.wavfile as wav\n",
    "import os, random, sys\n",
    "# from pylab import plot,show, figure, imshow\n",
    "# import matplotlib.pyplot as plt\n",
    "import librosa.core as audio\n",
    "\n",
    "import tensorflow as tf\n",
    "from tensorflow.keras.models import Model\n",
    "from tensorflow.keras.layers import TimeDistributed,Dense,LSTM,Input,Lambda,Dropout #,CuDNNLSTM, CuDNNGRU,,BatchNormalization,\n",
    "from tensorflow.keras.callbacks import TensorBoard, ModelCheckpoint, EarlyStopping\n",
    "from tensorflow.keras import regularizers as reg\n",
    "from tensorflow.keras.preprocessing.sequence import pad_sequences\n",
    "from sklearn.preprocessing import normalize, MinMaxScaler, MaxAbsScaler\n",
    "import tensorflow.keras.backend as K\n",
    "# os.environ['TF_CPP_MIN_LOG_LEVEL'] = '0'"
   ]
  },
  {
   "cell_type": "code",
   "execution_count": 12,
   "metadata": {
    "execution": {
     "iopub.execute_input": "2023-01-14T07:30:11.703104Z",
     "iopub.status.busy": "2023-01-14T07:30:11.702749Z",
     "iopub.status.idle": "2023-01-14T07:30:11.718026Z",
     "shell.execute_reply": "2023-01-14T07:30:11.716990Z",
     "shell.execute_reply.started": "2023-01-14T07:30:11.703076Z"
    }
   },
   "outputs": [],
   "source": [
    "def genStartVal(vLen,nLen):\n",
    "    startVal = math.floor(abs(np.random.randn()*0.02*vLen))\n",
    "    if startVal+vLen < nLen:\n",
    "        return startVal\n",
    "    else:\n",
    "        genStartVal(vLen,nLen)\n",
    "\n",
    "def spectrumSequence(time_series_data,nfft,fs_):\n",
    "    nFiles = len(time_series_data)\n",
    "    sequence = []\n",
    "    lengths = []\n",
    "    for idx in range(nFiles):\n",
    "        thisData = time_series_data[idx].T.squeeze()\n",
    "        spectrum =  audio.stft(thisData,n_fft=nfft,hop_length=int(nfft/2),center=False)\n",
    "        Mag = np.abs(spectrum).T\n",
    "        sequence.append(Mag)\n",
    "        lengths.append(len(Mag))\n",
    "    return sequence,lengths\n",
    "\n",
    "def pad_seq(allData,maxlen):\n",
    "    paddedData = pad_sequences(allData,maxlen=maxlen,dtype='float32',value=0.0)\n",
    "    return paddedData\n",
    "\n",
    "def back_to_wav(pred):\n",
    "    pred = pred.squeeze()\n",
    "    scaler2.inverse_transform(pred)\n",
    "    scaler1.inverse_transform(pred)\n",
    "    pred = pred.T\n",
    "    wav = audio.istft(pred)\n",
    "    return wav.T.squeeze()\n",
    "\n",
    "\n",
    "def softMasking(y):\n",
    "    input = y[0]\n",
    "    y1_hat = y[1]\n",
    "    y2_hat = y[2]\n",
    "    s1,s2 = computeSoftMask(y1_hat,y2_hat)\n",
    "    y1_tilde = tf.multiply(s1,input)\n",
    "    y2_tilde = tf.multiply(s2,input)\n",
    "    return [y1_tilde, y2_tilde]\n",
    "\n",
    "def maskedOutShape(shape):\n",
    "    shape_0 = list(shape[0])\n",
    "    shape_1 = list(shape[1])\n",
    "    return [tuple(shape_0),tuple(shape_1)]\n",
    "\n",
    "def computeSoftMask(y1,y2):\n",
    "    y1 = K.abs(y1)\n",
    "    y2 = K.abs(y2)\n",
    "    m1 = tf.divide(y1,tf.add(y1,y2))\n",
    "    m2 = tf.divide(y2,tf.add(y1,y2))\n",
    "    # m2 = 1 - m1\n",
    "    return [m1,m2]"
   ]
  },
  {
   "cell_type": "code",
   "execution_count": 13,
   "metadata": {
    "execution": {
     "iopub.execute_input": "2023-01-14T06:12:11.402173Z",
     "iopub.status.busy": "2023-01-14T06:12:11.401692Z",
     "iopub.status.idle": "2023-01-14T06:12:14.350438Z",
     "shell.execute_reply": "2023-01-14T06:12:14.349452Z",
     "shell.execute_reply.started": "2023-01-14T06:12:11.402132Z"
    }
   },
   "outputs": [],
   "source": [
    "# Dataset: MIR-1k\n",
    "# Training and Validation sets are prepared automatically by Keras later.\n",
    "# ----------------------------------------------\n",
    "\n",
    "#dataset = os.getcwd()+\"/../input/mir1k/MIR-1k/\"\n",
    "#noisedataset  = os.getcwd()+\"/../input/mir1k/Noises/\"\n",
    "\n",
    "import soundfile as sf\n",
    "\n",
    "mixed = []\n",
    "target = []\n",
    "noise = []\n",
    "\n",
    "path = \"./../data/clarity_CEC2_data/clarity_data/dev/scenes/S060\"\n",
    "\n",
    "for i in range(1, 51):\n",
    "    \n",
    "    if i < 10:\n",
    "        s = '0' + str(i)\n",
    "        \n",
    "    else:\n",
    "        s = str(i)\n",
    "        \n",
    "    mixed_sample, rate_m = sf.read(path + s + \"_mix_CH1.wav\")\n",
    "    target_sample, rate_t = sf.read(path + s + \"_target_CH1.wav\")\n",
    "    noise_sample, rate_n = sf.read(path + s + \"_interferer_CH1.wav\")\n",
    "    \n",
    "    mixed.append(mixed_sample[:,0])\n",
    "    target.append(target_sample[:,0])\n",
    "    noise.append(noise_sample[:,0])"
   ]
  },
  {
   "cell_type": "code",
   "execution_count": 14,
   "metadata": {
    "execution": {
     "iopub.execute_input": "2023-01-14T06:50:34.875802Z",
     "iopub.status.busy": "2023-01-14T06:50:34.875378Z",
     "iopub.status.idle": "2023-01-14T06:50:34.882203Z",
     "shell.execute_reply": "2023-01-14T06:50:34.881059Z",
     "shell.execute_reply.started": "2023-01-14T06:50:34.875766Z"
    }
   },
   "outputs": [
    {
     "name": "stdout",
     "output_type": "stream",
     "text": [
      "287990\n"
     ]
    }
   ],
   "source": [
    "print(len(mixed[0]))"
   ]
  },
  {
   "cell_type": "code",
   "execution_count": 15,
   "metadata": {
    "execution": {
     "iopub.execute_input": "2023-01-14T06:12:14.353167Z",
     "iopub.status.busy": "2023-01-14T06:12:14.352889Z",
     "iopub.status.idle": "2023-01-14T06:12:14.361507Z",
     "shell.execute_reply": "2023-01-14T06:12:14.360277Z",
     "shell.execute_reply.started": "2023-01-14T06:12:14.353143Z"
    }
   },
   "outputs": [
    {
     "data": {
      "text/plain": [
       "'\\nfor idx,f in enumerate(files):\\n    if f.endswith(\".wav\"):\\n        data,srate = audio.load(os.path.join(root,f),sr=None,mono=False)\\n        music = data[0,:]\\n        voice = data[1,:]\\n        mir_music.append(music)\\n        mir_voice.append(voice)\\n'"
      ]
     },
     "execution_count": 15,
     "metadata": {},
     "output_type": "execute_result"
    }
   ],
   "source": [
    "#for root,_,files in os.walk(dataset):\n",
    "#    files = sorted(files)\n",
    "    \n",
    "mir_music = noise\n",
    "mir_voice = target\n",
    "\n",
    "\"\"\"\n",
    "for idx,f in enumerate(files):\n",
    "    if f.endswith(\".wav\"):\n",
    "        data,srate = audio.load(os.path.join(root,f),sr=None,mono=False)\n",
    "        music = data[0,:]\n",
    "        voice = data[1,:]\n",
    "        mir_music.append(music)\n",
    "        mir_voice.append(voice)\n",
    "\"\"\""
   ]
  },
  {
   "cell_type": "code",
   "execution_count": 16,
   "metadata": {
    "execution": {
     "iopub.execute_input": "2023-01-14T06:12:14.363689Z",
     "iopub.status.busy": "2023-01-14T06:12:14.362771Z",
     "iopub.status.idle": "2023-01-14T06:12:14.524320Z",
     "shell.execute_reply": "2023-01-14T06:12:14.522725Z",
     "shell.execute_reply.started": "2023-01-14T06:12:14.363655Z"
    }
   },
   "outputs": [],
   "source": [
    "musicData = []\n",
    "voiceData = []\n",
    "musicAddedData = []\n",
    "\n",
    "for each,thisVoice in enumerate(mir_voice):\n",
    "    thisMusic = mir_music[each]\n",
    "    voiceBit = normalize(thisVoice.reshape(1,-1),norm='max')\n",
    "    musicBit = normalize(thisMusic.reshape(1,-1),norm='max')\n",
    "    #musicAdd = 0.5*np.add(voiceBit,musicBit)\n",
    "    musicAdd = mixed[each]\n",
    "    voiceData.append(voiceBit)\n",
    "    musicData.append(musicBit)\n",
    "    musicAddedData.append(musicAdd)"
   ]
  },
  {
   "cell_type": "code",
   "execution_count": 17,
   "metadata": {
    "execution": {
     "iopub.execute_input": "2023-01-14T06:52:18.173576Z",
     "iopub.status.busy": "2023-01-14T06:52:18.173160Z",
     "iopub.status.idle": "2023-01-14T06:52:18.178478Z",
     "shell.execute_reply": "2023-01-14T06:52:18.177740Z",
     "shell.execute_reply.started": "2023-01-14T06:52:18.173545Z"
    }
   },
   "outputs": [
    {
     "name": "stdout",
     "output_type": "stream",
     "text": [
      "50\n",
      "(287990,)\n"
     ]
    }
   ],
   "source": [
    "print(len(musicAddedData))\n",
    "print(musicAddedData[0].shape)"
   ]
  },
  {
   "cell_type": "code",
   "execution_count": 18,
   "metadata": {
    "execution": {
     "iopub.execute_input": "2023-01-14T06:12:14.526380Z",
     "iopub.status.busy": "2023-01-14T06:12:14.526001Z",
     "iopub.status.idle": "2023-01-14T06:12:15.977227Z",
     "shell.execute_reply": "2023-01-14T06:12:15.975560Z",
     "shell.execute_reply.started": "2023-01-14T06:12:14.526344Z"
    }
   },
   "outputs": [],
   "source": [
    "nfft = 1024\n",
    "fs = 16000\n",
    "\n",
    "x_data,l1  = spectrumSequence(musicAddedData,nfft,fs)\n",
    "y1_data,l2 = spectrumSequence(voiceData,nfft,fs)\n",
    "y2_data,l3 = spectrumSequence(musicData,nfft,fs)\n",
    "\n",
    "assert len(x_data) == len(y1_data) == len(y2_data)\n",
    "\n",
    "# ----------------------------------------------\n",
    "# Normalize Spectra to the Input\n",
    "# ----------------------------------------------\n",
    "\n",
    "scaler1 = MaxAbsScaler(copy=False)\n",
    "scaler2 = MinMaxScaler(feature_range=(0.0,1.0),copy=False)\n",
    "\n",
    "for idx in range(len(x_data)):\n",
    "    scaler1.fit_transform(x_data[idx])\n",
    "    # scaler1.fit_transform(x_data[idx])\n",
    "    scaler1.fit_transform(y1_data[idx])\n",
    "    scaler1.fit_transform(y2_data[idx])\n",
    "    # scaler2.fit(x_data[idx])\n",
    "    scaler2.fit_transform(x_data[idx])\n",
    "    scaler2.fit_transform(y1_data[idx])\n",
    "    scaler2.fit_transform(y2_data[idx])"
   ]
  },
  {
   "cell_type": "code",
   "execution_count": 19,
   "metadata": {
    "execution": {
     "iopub.execute_input": "2023-01-14T06:12:15.978976Z",
     "iopub.status.busy": "2023-01-14T06:12:15.978644Z",
     "iopub.status.idle": "2023-01-14T06:12:16.059123Z",
     "shell.execute_reply": "2023-01-14T06:12:16.057879Z",
     "shell.execute_reply.started": "2023-01-14T06:12:15.978949Z"
    }
   },
   "outputs": [],
   "source": [
    "l1 = max(l1)\n",
    "l2 = max(l2)\n",
    "l3 = max(l3)\n",
    "maxL = max(l1,l2,l3)\n",
    "\n",
    "del mir_music, mir_voice #, combinedDataFrames\n",
    "#\n",
    "train_x = pad_seq(x_data,maxL)\n",
    "y1      = pad_seq(y1_data,maxL)\n",
    "y2      = pad_seq(y2_data,maxL)\n",
    "\n",
    "\n",
    "del x_data, y1_data, y2_data"
   ]
  },
  {
   "cell_type": "code",
   "execution_count": 20,
   "metadata": {
    "execution": {
     "iopub.execute_input": "2023-01-14T06:12:16.060845Z",
     "iopub.status.busy": "2023-01-14T06:12:16.060502Z",
     "iopub.status.idle": "2023-01-14T06:12:16.066953Z",
     "shell.execute_reply": "2023-01-14T06:12:16.065439Z",
     "shell.execute_reply.started": "2023-01-14T06:12:16.060795Z"
    }
   },
   "outputs": [
    {
     "name": "stdout",
     "output_type": "stream",
     "text": [
      "(50, 599, 513)\n"
     ]
    }
   ],
   "source": [
    "print(train_x.shape)"
   ]
  },
  {
   "cell_type": "code",
   "execution_count": 23,
   "metadata": {
    "execution": {
     "iopub.execute_input": "2023-01-14T06:12:16.068798Z",
     "iopub.status.busy": "2023-01-14T06:12:16.068431Z",
     "iopub.status.idle": "2023-01-14T06:12:55.849105Z",
     "shell.execute_reply": "2023-01-14T06:12:55.848109Z",
     "shell.execute_reply.started": "2023-01-14T06:12:16.068767Z"
    }
   },
   "outputs": [
    {
     "name": "stdout",
     "output_type": "stream",
     "text": [
      "Model: \"model_3\"\n",
      "__________________________________________________________________________________________________\n",
      " Layer (type)                   Output Shape         Param #     Connected to                     \n",
      "==================================================================================================\n",
      " input_4 (InputLayer)           [(None, 599, 513)]   0           []                               \n",
      "                                                                                                  \n",
      " lstm_9 (LSTM)                  (None, 599, 600)     2673600     ['input_4[0][0]']                \n",
      "                                                                                                  \n",
      " dropout_6 (Dropout)            (None, 599, 600)     0           ['lstm_9[0][0]']                 \n",
      "                                                                                                  \n",
      " lstm_10 (LSTM)                 (None, 599, 600)     2882400     ['dropout_6[0][0]']              \n",
      "                                                                                                  \n",
      " dropout_7 (Dropout)            (None, 599, 600)     0           ['lstm_10[0][0]']                \n",
      "                                                                                                  \n",
      " lstm_11 (LSTM)                 (None, 599, 600)     2882400     ['dropout_7[0][0]']              \n",
      "                                                                                                  \n",
      " y1_hat (TimeDistributed)       (None, 599, 513)     308313      ['lstm_11[0][0]']                \n",
      "                                                                                                  \n",
      " y2_hat (TimeDistributed)       (None, 599, 513)     308313      ['lstm_11[0][0]']                \n",
      "                                                                                                  \n",
      " softMask (Lambda)              [(None, 599, 513),   0           ['input_4[0][0]',                \n",
      "                                 (None, 599, 513)]                'y1_hat[0][0]',                 \n",
      "                                                                  'y2_hat[0][0]']                 \n",
      "                                                                                                  \n",
      "==================================================================================================\n",
      "Total params: 9,055,026\n",
      "Trainable params: 9,055,026\n",
      "Non-trainable params: 0\n",
      "__________________________________________________________________________________________________\n",
      "Epoch 1/2\n",
      "1/1 [==============================] - ETA: 0s - loss: 113.7979 - softMask_loss: 28.4089 - softMask_1_loss: 85.3890 - softMask_acc: 0.2101 - softMask_mse: 0.0141 - softMask_1_acc: 0.3929 - softMask_1_mse: 0.0234"
     ]
    },
    {
     "name": "stderr",
     "output_type": "stream",
     "text": [
      "2023-01-14 21:51:51.351966: W tensorflow/tsl/framework/cpu_allocator_impl.cc:82] Allocation of 51624216 exceeds 10% of free system memory.\n",
      "2023-01-14 21:51:51.371629: W tensorflow/tsl/framework/cpu_allocator_impl.cc:82] Allocation of 51624216 exceeds 10% of free system memory.\n",
      "2023-01-14 21:51:51.392262: W tensorflow/tsl/framework/cpu_allocator_impl.cc:82] Allocation of 51624216 exceeds 10% of free system memory.\n"
     ]
    },
    {
     "name": "stdout",
     "output_type": "stream",
     "text": [
      "1/1 [==============================] - 23s 23s/step - loss: 113.7979 - softMask_loss: 28.4089 - softMask_1_loss: 85.3890 - softMask_acc: 0.2101 - softMask_mse: 0.0141 - softMask_1_acc: 0.3929 - softMask_1_mse: 0.0234 - val_loss: 86.5669 - val_softMask_loss: 27.3085 - val_softMask_1_loss: 59.2584 - val_softMask_acc: 0.2531 - val_softMask_mse: 0.0154 - val_softMask_1_acc: 0.5070 - val_softMask_1_mse: 0.0158\n",
      "Epoch 2/2\n",
      "1/1 [==============================] - 16s 16s/step - loss: 113.7596 - softMask_loss: 28.4146 - softMask_1_loss: 85.3450 - softMask_acc: 0.2099 - softMask_mse: 0.0141 - softMask_1_acc: 0.3921 - softMask_1_mse: 0.0234 - val_loss: 86.5380 - val_softMask_loss: 27.3174 - val_softMask_1_loss: 59.2205 - val_softMask_acc: 0.2525 - val_softMask_mse: 0.0154 - val_softMask_1_acc: 0.5061 - val_softMask_1_mse: 0.0157\n"
     ]
    }
   ],
   "source": [
    "batch_size = 10\n",
    "learning_rate = 1e-4\n",
    "decay_ = 1e-3\n",
    "epochs = 2\n",
    "n_units = 600 #int(2*nfft/1)\n",
    "\n",
    "shape = train_x.shape[1:]\n",
    "n_outs = train_x.shape[2] # Note: Not train_x.shape[1:], which returns shape for input_shape, instead of int.\n",
    "\n",
    "\n",
    "# # CPU Version :: Functional API\n",
    "regularizer = reg.l2(0.05)\n",
    "input_1 = Input(shape=shape)\n",
    "# input_mask = Masking(mask_value=0.,input_shape=shape)(input)\n",
    "hid1 = LSTM(n_units,return_sequences=True, activation='relu')(input_1)\n",
    "dp1  = Dropout(0.2)(hid1)\n",
    "hid2 = LSTM(n_units,return_sequences=True, activation='relu')(dp1)\n",
    "dp2  = Dropout(0.2)(hid2)\n",
    "hid3 = LSTM(n_units,return_sequences=True, activation='relu')(dp2)\n",
    "y1_hat = TimeDistributed(Dense(train_x.shape[2], activation='softmax', input_shape=train_x.shape[1:]), name='y1_hat')(hid3)\n",
    "y2_hat = TimeDistributed(Dense(train_x.shape[2], activation='softmax', input_shape=train_x.shape[1:]), name='y2_hat')(hid3)\n",
    "out1,out2 = Lambda(softMasking,maskedOutShape,name='softMask')([input_1,y1_hat,y2_hat])\n",
    "\n",
    "model = Model(inputs=input_1,outputs=[out1,out2])\n",
    "model.summary()\n",
    "#\n",
    "#\n",
    "opt = tf.keras.optimizers.Adam(learning_rate=learning_rate)\n",
    "model.compile(loss='kullback_leibler_divergence',optimizer=opt, metrics=['acc','mse']) #kullback_leibler_divergence\n",
    "\n",
    "curdir = os.getcwd()+\"/logs/\"\n",
    "\n",
    "if not os.path.exists('Checkpoints'):\n",
    "    os.makedirs('Checkpoints')\n",
    "\n",
    "chkpoint_path = os.getcwd()+\"/Checkpoints/ModelChkpoint_epoch{epoch:02d}_vLoss{val_loss:.2f}.hdf5\"\n",
    "\n",
    "tensorboard = TensorBoard(log_dir=curdir)\n",
    "\n",
    "checkpt = ModelCheckpoint(filepath=chkpoinpath,monitor='val_softMask_acc',save_best_only=True,save_weights_only=False)\n",
    "earlystop = EarlyStopping(monitor='val_softMask_acc', min_delta=1e-3, patience=10)\n",
    "history = model.fit(train_x,[y1,y2],batch_size=batch_size,epochs=epochs,validation_split=0.825,callbacks=[tensorboard,checkpt,earlystop])\n",
    "\n",
    "if not os.path.exists('Models'):\n",
    "    os.makedirs('Models')\n",
    "\n",
    "date_time = datetime.datetime.now()\n",
    "model_path = os.getcwd()+f\"/Models/Model_{date_time}.hdf5\"\n",
    "model.save(model_path)"
   ]
  },
  {
   "cell_type": "code",
   "execution_count": 24,
   "metadata": {
    "execution": {
     "iopub.execute_input": "2023-01-14T06:12:55.851712Z",
     "iopub.status.busy": "2023-01-14T06:12:55.851407Z",
     "iopub.status.idle": "2023-01-14T06:12:57.782635Z",
     "shell.execute_reply": "2023-01-14T06:12:57.781903Z",
     "shell.execute_reply.started": "2023-01-14T06:12:55.851684Z"
    }
   },
   "outputs": [
    {
     "name": "stdout",
     "output_type": "stream",
     "text": [
      "Model: \"model_3\"\n",
      "__________________________________________________________________________________________________\n",
      " Layer (type)                   Output Shape         Param #     Connected to                     \n",
      "==================================================================================================\n",
      " input_4 (InputLayer)           [(None, 599, 513)]   0           []                               \n",
      "                                                                                                  \n",
      " lstm_9 (LSTM)                  (None, 599, 600)     2673600     ['input_4[0][0]']                \n",
      "                                                                                                  \n",
      " dropout_6 (Dropout)            (None, 599, 600)     0           ['lstm_9[0][0]']                 \n",
      "                                                                                                  \n",
      " lstm_10 (LSTM)                 (None, 599, 600)     2882400     ['dropout_6[0][0]']              \n",
      "                                                                                                  \n",
      " dropout_7 (Dropout)            (None, 599, 600)     0           ['lstm_10[0][0]']                \n",
      "                                                                                                  \n",
      " lstm_11 (LSTM)                 (None, 599, 600)     2882400     ['dropout_7[0][0]']              \n",
      "                                                                                                  \n",
      " y1_hat (TimeDistributed)       (None, 599, 513)     308313      ['lstm_11[0][0]']                \n",
      "                                                                                                  \n",
      " y2_hat (TimeDistributed)       (None, 599, 513)     308313      ['lstm_11[0][0]']                \n",
      "                                                                                                  \n",
      " softMask (Lambda)              [(None, 599, 513),   0           ['input_4[0][0]',                \n",
      "                                 (None, 599, 513)]                'y1_hat[0][0]',                 \n",
      "                                                                  'y2_hat[0][0]']                 \n",
      "                                                                                                  \n",
      "==================================================================================================\n",
      "Total params: 9,055,026\n",
      "Trainable params: 9,055,026\n",
      "Non-trainable params: 0\n",
      "__________________________________________________________________________________________________\n",
      "1/1 [==============================] - 1s 1s/step\n",
      "(1, 599, 513)\n"
     ]
    }
   ],
   "source": [
    "model = tf.keras.models.load_model(model_path, compile = False)\n",
    "\n",
    "model.summary()\n",
    "\n",
    "s_pred_voice, s_pred_music = model.predict(train_x[:1])\n",
    "\n",
    "print(s_pred_voice.shape)"
   ]
  },
  {
   "cell_type": "code",
   "execution_count": 25,
   "metadata": {
    "execution": {
     "iopub.execute_input": "2023-01-14T07:09:15.345382Z",
     "iopub.status.busy": "2023-01-14T07:09:15.345002Z",
     "iopub.status.idle": "2023-01-14T07:09:15.350353Z",
     "shell.execute_reply": "2023-01-14T07:09:15.349379Z",
     "shell.execute_reply.started": "2023-01-14T07:09:15.345346Z"
    }
   },
   "outputs": [],
   "source": [
    "import pandas as pd"
   ]
  },
  {
   "cell_type": "code",
   "execution_count": 26,
   "metadata": {
    "execution": {
     "iopub.execute_input": "2023-01-14T07:43:28.272579Z",
     "iopub.status.busy": "2023-01-14T07:43:28.272204Z",
     "iopub.status.idle": "2023-01-14T07:43:28.308453Z",
     "shell.execute_reply": "2023-01-14T07:43:28.306987Z",
     "shell.execute_reply.started": "2023-01-14T07:43:28.272552Z"
    }
   },
   "outputs": [
    {
     "name": "stdout",
     "output_type": "stream",
     "text": [
      "(153088,)\n",
      "(153088,)\n"
     ]
    }
   ],
   "source": [
    "s_pred_voice_wav = back_to_wav(s_pred_voice)\n",
    "s_pred_noise_wav = back_to_wav(s_pred_music)\n",
    "\n",
    "print(s_pred_voice_wav.shape)\n",
    "print(s_pred_noise_wav.shape)\n",
    "\n",
    "#DF = pd.DataFrame(wav)\n",
    "#DF.to_csv('outputfile.csv', index=False)"
   ]
  },
  {
   "cell_type": "code",
   "execution_count": 27,
   "metadata": {
    "execution": {
     "iopub.execute_input": "2023-01-14T07:46:20.346203Z",
     "iopub.status.busy": "2023-01-14T07:46:20.345767Z",
     "iopub.status.idle": "2023-01-14T07:46:22.596007Z",
     "shell.execute_reply": "2023-01-14T07:46:22.594686Z",
     "shell.execute_reply.started": "2023-01-14T07:46:20.346174Z"
    }
   },
   "outputs": [
    {
     "data": {
      "image/png": "[encoded data removed]",
      "text/plain": [
       "<Figure size 1000x700 with 5 Axes>"
      ]
     },
     "metadata": {},
     "output_type": "display_data"
    }
   ],
   "source": [
    "import math\n",
    "import numpy as np\n",
    "import matplotlib.pyplot as plt\n",
    "%matplotlib inline\n",
    "import librosa.display\n",
    "\n",
    "fig = plt.figure(figsize=(10, 7))\n",
    "  \n",
    "# setting values to rows and column variables\n",
    "rows = 2\n",
    "columns = 3\n",
    "\n",
    "fig.add_subplot(rows, columns, 1)\n",
    "\n",
    "librosa.display.waveshow(mixed[1], sr=44100)\n",
    "\n",
    "fig.add_subplot(rows, columns, 2)\n",
    "\n",
    "librosa.display.waveshow(target[1], sr=44100)\n",
    "\n",
    "fig.add_subplot(rows, columns, 3)\n",
    "\n",
    "librosa.display.waveshow(noise[1], sr=44100)\n",
    "\n",
    "fig.add_subplot(rows, columns, 5)\n",
    "\n",
    "librosa.display.waveshow(s_pred_voice_wav, sr=44100)\n",
    "\n",
    "fig.add_subplot(rows, columns, 6)\n",
    "\n",
    "librosa.display.waveshow(s_pred_noise_wav, sr=44100)\n",
    "\n",
    "plt.show()\n"
   ]
  },
  {
   "cell_type": "code",
   "execution_count": 28,
   "metadata": {},
   "outputs": [],
   "source": [
    "from scipy.io import wavfile\n",
    "wavfile.write(\n",
    "            \"enhanced.wav\", 44100, s_pred_voice_wav\n",
    "        )\n"
   ]
  },
  {
   "cell_type": "code",
   "execution_count": null,
   "metadata": {},
   "outputs": [],
   "source": []
  }
 ],
 "metadata": {
  "kernelspec": {
   "display_name": "Python 3 (ipykernel)",
   "language": "python",
   "name": "python3"
  },
  "language_info": {
   "codemirror_mode": {
    "name": "ipython",
    "version": 3
   },
   "file_extension": ".py",
   "mimetype": "text/x-python",
   "name": "python",
   "nbconvert_exporter": "python",
   "pygments_lexer": "ipython3",
   "version": "3.10.6"
  }
 },
 "nbformat": 4,
 "nbformat_minor": 4
}
